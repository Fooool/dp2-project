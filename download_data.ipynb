{
 "cells": [
  {
   "cell_type": "markdown",
   "metadata": {},
   "source": [
    "# Harnessing Weather Insights for Accurate Energy Load Forecasting\n",
    "\n",
    "by Florian Schulze, Raffaela Länger, Johanna Kronfuß and Julian Janisch\n",
    "\n",
    "------------"
   ]
  },
  {
   "cell_type": "markdown",
   "metadata": {},
   "source": [
    "# Downloading the Data"
   ]
  },
  {
   "cell_type": "markdown",
   "metadata": {},
   "source": [
    "In this project, we download data from two different websites to predict energy load based on weather data. Since frequent API requests can be inefficient and may be subject to usage limits or costs, we store the downloaded data locally. This allows us to reuse the data for analysis and model optimization without overloading the API, ensuring a more efficient and sustainable workflow."
   ]
  },
  {
   "cell_type": "code",
   "execution_count": null,
   "metadata": {},
   "outputs": [],
   "source": [
    "%pip install -r requirements.txt"
   ]
  },
  {
   "cell_type": "code",
   "execution_count": null,
   "metadata": {},
   "outputs": [],
   "source": [
    "# Imports\n",
    "import requests\n",
    "import datetime\n",
    "import os\n",
    "import time\n",
    "\n",
    "# API Settings\n",
    "\n",
    "# Transparency Portal\n",
    "TRANSPARENCY_API_KEY = \"9d0ebad5-08cf-4d6f-a752-744ba3707b70\"\n",
    "TRANSPARENCY_PERIOD_START = \"2024-01-01\"\n",
    "TRANSPARENCY_PERIOD_END = \"2024-12-31\"\n",
    "TRANSPARENCY_BIDDING_ZONE = \"10YAT-APG------L\" # Load Austria\n",
    "\n",
    "# GeoSphere\n",
    "GEOSPHERE_PERIOD_START = \"2024-01-01\"\n",
    "GEOSPHERE_PERIOD_END = \"2024-12-31\"\n",
    "GEOSPHERE_STATIONS = \"1, 105\""
   ]
  },
  {
   "cell_type": "code",
   "execution_count": null,
   "metadata": {},
   "outputs": [],
   "source": [
    "# Transparency Portal\n",
    "# Restful API Guide: https://documenter.getpostman.com/view/7009892/2s93JtP3F6\n",
    "\n",
    "\n",
    "if TRANSPARENCY_API_KEY == \"DEMO_KEY\":\n",
    "    print(\"Error: Missing Transparency API key.\")\n",
    "else:\n",
    "    api_url = \"https://web-api.tp.entsoe.eu/api\"\n",
    "    \n",
    "    start = datetime.datetime.strptime(TRANSPARENCY_PERIOD_START, \"%Y-%m-%d\")\n",
    "    end = datetime.datetime.strptime(TRANSPARENCY_PERIOD_END, \"%Y-%m-%d\")\n",
    "    \n",
    "    # Go through each month of the span\n",
    "    current = start\n",
    "    while current <= end:\n",
    "        print(\"Requesting data for \" + current.strftime(\"%Y-%m\"))\n",
    "        \n",
    "        next_month = (current.replace(day=1) + datetime.timedelta(days=32)).replace(day=1)\n",
    "        period_end = min(next_month, end + datetime.timedelta(days=1))\n",
    "        \n",
    "        api_params = {\n",
    "            \"documentType\": \"A65\", # System Total Load\n",
    "            \"processType\": \"A16\", # Actual Realized Load\n",
    "            \"outBiddingZone_Domain\": TRANSPARENCY_BIDDING_ZONE,\n",
    "            \"periodStart\": current.strftime(\"%Y%m%d0000\"), # Format: YYYYMMDDHHMM\n",
    "            \"periodEnd\": period_end.strftime(\"%Y%m%d0000\"), # Format: YYYYMMDDHHMM\n",
    "            \"securityToken\": TRANSPARENCY_API_KEY\n",
    "        }\n",
    "        \n",
    "        response = requests.get(api_url, params=api_params) # Send the request => Get XML response\n",
    "\n",
    "        if response.status_code == 200:\n",
    "            # Save to file and create directory if it doesn't exist\n",
    "            year_folder = current.strftime(\"%Y\")\n",
    "            month_file = current.strftime(\"%m\")\n",
    "            os.makedirs(os.path.dirname(f\"./data/transparency/{year_folder}/\"), exist_ok=True)\n",
    "            \n",
    "            with open(f\"./data/transparency/{year_folder}/{month_file}.xml\", \"w\", encoding='utf-8') as file:\n",
    "                file.write(response.text)\n",
    "                \n",
    "            print(f\"Data saved to ./data/transparency/{year_folder}/{month_file}.xml\")\n",
    "                \n",
    "        else:\n",
    "            print(\"Error: \" + str(response.status_code))\n",
    "            print(\"Response: \" + response.text)\n",
    "        \n",
    "        current = next_month\n"
   ]
  },
  {
   "cell_type": "code",
   "execution_count": null,
   "metadata": {},
   "outputs": [
    {
     "name": "stdout",
     "output_type": "stream",
     "text": [
      "Requesting data for 2024-01\n",
      "Remaining requests for this hour: 221\n",
      "Data saved to ./data/geosphere/2024/01.csv\n",
      "Requesting data for 2024-02\n",
      "Remaining requests for this hour: 219\n",
      "Data saved to ./data/geosphere/2024/02.csv\n",
      "Requesting data for 2024-03\n",
      "Remaining requests for this hour: 218\n",
      "Data saved to ./data/geosphere/2024/03.csv\n",
      "Requesting data for 2024-04\n",
      "Remaining requests for this hour: 217\n",
      "Data saved to ./data/geosphere/2024/04.csv\n",
      "Requesting data for 2024-05\n",
      "Remaining requests for this hour: 216\n",
      "Data saved to ./data/geosphere/2024/05.csv\n",
      "Requesting data for 2024-06\n",
      "Remaining requests for this hour: 215\n",
      "Data saved to ./data/geosphere/2024/06.csv\n",
      "Requesting data for 2024-07\n",
      "Remaining requests for this hour: 214\n",
      "Data saved to ./data/geosphere/2024/07.csv\n",
      "Requesting data for 2024-08\n",
      "Remaining requests for this hour: 213\n",
      "Data saved to ./data/geosphere/2024/08.csv\n",
      "Requesting data for 2024-09\n"
     ]
    }
   ],
   "source": [
    "# GeoSphere Historical Data\n",
    "if TRANSPARENCY_API_KEY == \"DEMO_KEY\":\n",
    "    print(\"Error: Missing Transparency API key.\")\n",
    "else:\n",
    "    api_url = \"https://dataset.api.hub.geosphere.at/v1/station/historical/\"\n",
    "    api_dataset = \"klima-v2-1h\"\n",
    "    \n",
    "    start = datetime.datetime.strptime(TRANSPARENCY_PERIOD_START, \"%Y-%m-%d\")\n",
    "    end = datetime.datetime.strptime(TRANSPARENCY_PERIOD_END, \"%Y-%m-%d\")\n",
    "    \n",
    "    # Go through each month of the span\n",
    "    current = start\n",
    "    while current <= end:       \n",
    "        next_month = (current.replace(day=1) + datetime.timedelta(days=32)).replace(day=1)\n",
    "        period_end = min(next_month, end + datetime.timedelta(days=1))\n",
    "        \n",
    "        print(\"Requesting data for \" + current.strftime(\"%Y-%m\"))\n",
    "        \n",
    "        api_params = {\n",
    "            # Data to get\n",
    "            \"parameters\": \"rr,tl,p,so_h,ff\", # Rainfall, Temperature, Pressure, Sunshine Duration, Wind speed\n",
    "            \"start\": current.strftime(\"%Y-%m-%d\"),\n",
    "            \"end\": period_end.strftime(\"%Y-%m-%d\"),\n",
    "            \"station_ids\": GEOSPHERE_STATIONS,\n",
    "            \"output_format\": \"csv\",\n",
    "        }\n",
    "        \n",
    "        response = requests.get(api_url + api_dataset, params=api_params) # Send the request => Get GeoJSON response\n",
    "        \n",
    "        if response.status_code == 200:\n",
    "            print(\"Remaining requests for this hour: \" + response.headers[\"x-ratelimit-remaining-hour\"])\n",
    "            \n",
    "            # Save to file and create directory if it doesn't exist\n",
    "            year_folder = current.strftime(\"%Y\")\n",
    "            month_file = current.strftime(\"%m\")\n",
    "            os.makedirs(os.path.dirname(f\"./data/geosphere/{year_folder}/\"), exist_ok=True)\n",
    "            \n",
    "            with open(f\"./data/geosphere/{year_folder}/{month_file}.csv\", \"w\", encoding='utf-8') as file:\n",
    "                file.write(response.text)\n",
    "                \n",
    "            print(f\"Data saved to ./data/geosphere/{year_folder}/{month_file}.csv\")\n",
    "            \n",
    "        else:\n",
    "            print(\"Error: \" + str(response.status_code))\n",
    "            print(\"Response: \" + response.text)\n",
    "        \n",
    "        # Sleep to avoid rate limiting (5 requests per second)\n",
    "        time.sleep(0.2)\n",
    "        current = next_month\n",
    "    "
   ]
  }
 ],
 "metadata": {
  "kernelspec": {
   "display_name": "Python 3",
   "language": "python",
   "name": "python3"
  },
  "language_info": {
   "codemirror_mode": {
    "name": "ipython",
    "version": 3
   },
   "file_extension": ".py",
   "mimetype": "text/x-python",
   "name": "python",
   "nbconvert_exporter": "python",
   "pygments_lexer": "ipython3",
   "version": "3.8.6"
  }
 },
 "nbformat": 4,
 "nbformat_minor": 4
}
