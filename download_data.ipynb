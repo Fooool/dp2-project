{
 "cells": [
  {
   "cell_type": "markdown",
   "metadata": {},
   "source": [
    "# Harnessing Weather Insights for Accurate Energy Load Forecasting\n",
    "\n",
    "by Florian Schulze, Raffaela Länger, Johanna Kronfuß and Julian Janisch\n",
    "\n",
    "** The Code was written in Visual Studio Code with the help of GitHub Copilot **\n",
    "\n",
    "------------"
   ]
  },
  {
   "cell_type": "markdown",
   "metadata": {},
   "source": [
    "# Downloading the Data"
   ]
  },
  {
   "cell_type": "markdown",
   "metadata": {},
   "source": [
    "In this project, we download data from two different websites to predict energy load based on weather data. Since frequent API requests can be inefficient and may be subject to usage limits or costs, we store the downloaded data locally. This allows us to reuse the data for analysis and model optimization without overloading the API, ensuring a more efficient and sustainable workflow."
   ]
  },
  {
   "cell_type": "code",
   "execution_count": 1,
   "metadata": {},
   "outputs": [
    {
     "name": "stdout",
     "output_type": "stream",
     "text": [
      "Requirement already satisfied: certifi==2024.12.14 in p:\\development\\vs\\dp2-project\\.venv\\lib\\site-packages (from -r requirements.txt (line 7)) (2024.12.14)\n",
      "Requirement already satisfied: charset-normalizer==3.4.1 in p:\\development\\vs\\dp2-project\\.venv\\lib\\site-packages (from -r requirements.txt (line 9)) (3.4.1)\n",
      "Requirement already satisfied: contourpy==1.3.1 in p:\\development\\vs\\dp2-project\\.venv\\lib\\site-packages (from -r requirements.txt (line 11)) (1.3.1)\n",
      "Requirement already satisfied: cycler==0.12.1 in p:\\development\\vs\\dp2-project\\.venv\\lib\\site-packages (from -r requirements.txt (line 13)) (0.12.1)\n",
      "Requirement already satisfied: datetime==5.5 in p:\\development\\vs\\dp2-project\\.venv\\lib\\site-packages (from -r requirements.txt (line 15)) (5.5)\n",
      "Requirement already satisfied: findspark==2.0.1 in p:\\development\\vs\\dp2-project\\.venv\\lib\\site-packages (from -r requirements.txt (line 17)) (2.0.1)\n",
      "Requirement already satisfied: fonttools==4.56.0 in p:\\development\\vs\\dp2-project\\.venv\\lib\\site-packages (from -r requirements.txt (line 19)) (4.56.0)\n",
      "Requirement already satisfied: idna==3.10 in p:\\development\\vs\\dp2-project\\.venv\\lib\\site-packages (from -r requirements.txt (line 21)) (3.10)\n",
      "Requirement already satisfied: kiwisolver==1.4.8 in p:\\development\\vs\\dp2-project\\.venv\\lib\\site-packages (from -r requirements.txt (line 23)) (1.4.8)\n",
      "Requirement already satisfied: matplotlib==3.10.0 in p:\\development\\vs\\dp2-project\\.venv\\lib\\site-packages (from -r requirements.txt (line 25)) (3.10.0)\n",
      "Requirement already satisfied: numpy==2.2.2 in p:\\development\\vs\\dp2-project\\.venv\\lib\\site-packages (from -r requirements.txt (line 27)) (2.2.2)\n",
      "Requirement already satisfied: packaging==24.2 in p:\\development\\vs\\dp2-project\\.venv\\lib\\site-packages (from -r requirements.txt (line 33)) (24.2)\n",
      "Requirement already satisfied: pandas==2.2.3 in p:\\development\\vs\\dp2-project\\.venv\\lib\\site-packages (from -r requirements.txt (line 35)) (2.2.3)\n",
      "Requirement already satisfied: pillow==11.1.0 in p:\\development\\vs\\dp2-project\\.venv\\lib\\site-packages (from -r requirements.txt (line 37)) (11.1.0)\n",
      "Requirement already satisfied: py4j==0.10.9.7 in p:\\development\\vs\\dp2-project\\.venv\\lib\\site-packages (from -r requirements.txt (line 39)) (0.10.9.7)\n",
      "Requirement already satisfied: pyparsing==3.2.1 in p:\\development\\vs\\dp2-project\\.venv\\lib\\site-packages (from -r requirements.txt (line 41)) (3.2.1)\n",
      "Requirement already satisfied: pyspark==3.5.4 in p:\\development\\vs\\dp2-project\\.venv\\lib\\site-packages (from -r requirements.txt (line 43)) (3.5.4)\n",
      "Requirement already satisfied: python-dateutil==2.9.0.post0 in p:\\development\\vs\\dp2-project\\.venv\\lib\\site-packages (from -r requirements.txt (line 45)) (2.9.0.post0)\n",
      "Requirement already satisfied: pytz==2024.2 in p:\\development\\vs\\dp2-project\\.venv\\lib\\site-packages (from -r requirements.txt (line 49)) (2024.2)\n",
      "Requirement already satisfied: requests==2.32.3 in p:\\development\\vs\\dp2-project\\.venv\\lib\\site-packages (from -r requirements.txt (line 53)) (2.32.3)\n",
      "Requirement already satisfied: six==1.17.0 in p:\\development\\vs\\dp2-project\\.venv\\lib\\site-packages (from -r requirements.txt (line 55)) (1.17.0)\n",
      "Requirement already satisfied: tzdata==2025.1 in p:\\development\\vs\\dp2-project\\.venv\\lib\\site-packages (from -r requirements.txt (line 57)) (2025.1)\n",
      "Requirement already satisfied: urllib3==2.3.0 in p:\\development\\vs\\dp2-project\\.venv\\lib\\site-packages (from -r requirements.txt (line 59)) (2.3.0)\n",
      "Requirement already satisfied: zope-interface==7.2 in p:\\development\\vs\\dp2-project\\.venv\\lib\\site-packages (from -r requirements.txt (line 61)) (7.2)\n",
      "Requirement already satisfied: setuptools in p:\\development\\vs\\dp2-project\\.venv\\lib\\site-packages (from zope-interface==7.2->-r requirements.txt (line 61)) (75.8.0)\n",
      "Note: you may need to restart the kernel to use updated packages.\n"
     ]
    }
   ],
   "source": [
    "# This command installs all required dependencies listed in requirements.txt\n",
    "# It ensures that all necessary libraries are available for the project\n",
    "%pip install -r requirements.txt"
   ]
  },
  {
   "cell_type": "code",
   "execution_count": 2,
   "metadata": {},
   "outputs": [],
   "source": [
    "# Imports the requests library for making HTTP requests to APIs or websites\n",
    "import requests\n",
    "\n",
    "# Imports the datetime module to handle and manipulate date and time data\n",
    "import datetime  \n",
    "\n",
    "# Imports the os module to interact with the operating system (e.g., file handling)\n",
    "import os  \n",
    "\n",
    "# Imports the time module to work with time-related functions (e.g., sleep, timestamps)\n",
    "import time  "
   ]
  },
  {
   "cell_type": "markdown",
   "metadata": {},
   "source": [
    "### API Settings"
   ]
  },
  {
   "cell_type": "markdown",
   "metadata": {},
   "source": [
    "In this section, we define the API settings needed to retrieve data from two different sources: the Transparency Portal and GeoSphere. These settings include API keys, time periods, and relevant parameters required for data extraction. By specifying these settings in advance, we ensure consistency, reusability, and easy configuration when making API requests. This approach helps streamline the data collection process and reduces errors by keeping key parameters organized in one place."
   ]
  },
  {
   "cell_type": "markdown",
   "metadata": {},
   "source": [
    "#### Transparency Portal"
   ]
  },
  {
   "cell_type": "markdown",
   "metadata": {},
   "source": [
    "This platform offers a wide range of energy-related data, including electricity consumption, grid balancing, and market prices across different bidding zones in Europe. We focus on retrieving energy load data for Austria (APG zone) for a specified period in order to analyze how the energy grid is managed and how consumption fluctuates. This data is crucial for understanding the energy demand patterns that we aim to predict based on weather conditions."
   ]
  },
  {
   "cell_type": "code",
   "execution_count": 3,
   "metadata": {},
   "outputs": [],
   "source": [
    "# API Settings for Transparency Portal\n",
    "TRANSPARENCY_API_KEY = \"DEMO_KEY\"  # API key for authentication\n",
    "TRANSPARENCY_PERIOD_START = \"2025-01-01\"  # Start date for data retrieval\n",
    "TRANSPARENCY_PERIOD_END = \"2025-01-31\"  # End date for data retrieval\n",
    "TRANSPARENCY_BIDDING_ZONE = \"10YAT-APG------L\"  # Defines the bidding zone (Austria) for energy load data"
   ]
  },
  {
   "cell_type": "markdown",
   "metadata": {},
   "source": [
    "#### GeoSphere"
   ]
  },
  {
   "cell_type": "markdown",
   "metadata": {},
   "source": [
    "GeoSphere Austria provides comprehensive meteorological data collected from numerous weather stations across the country. This data includes parameters like temperature, humidity, wind speed, and other climate-related factors. By combining this weather data with the energy load information from the Transparency Portal, we can develop more accurate models for forecasting energy consumption, as weather conditions often have a significant impact on energy usage."
   ]
  },
  {
   "cell_type": "code",
   "execution_count": 4,
   "metadata": {},
   "outputs": [],
   "source": [
    "# API Settings for GeoSphere\n",
    "GEOSPHERE_PERIOD_START = \"2025-01-01\"  # Start date for weather data retrieval\n",
    "GEOSPHERE_PERIOD_END = \"2025-01-31\"  # End date for weather data retrieval\n",
    "GEOSPHERE_STATIONS = \"1, 15, 30, 39, 48, 56, 93, 105, 112, 145, 5925\"  # Specifies the weather stations to collect data from\n"
   ]
  },
  {
   "cell_type": "markdown",
   "metadata": {},
   "source": [
    "### Fetching and Saving Energy Load Data from Transparency Portal"
   ]
  },
  {
   "cell_type": "markdown",
   "metadata": {},
   "source": [
    "This code retrieves energy load data from the Transparency Portal API. It queries data for each month within a specified date range and saves the response (in XML format) to a directory. The process ensures that the necessary API key is provided, handles API requests, and stores the data in a structured folder hierarchy (organized by year and month)."
   ]
  },
  {
   "cell_type": "code",
   "execution_count": 5,
   "metadata": {},
   "outputs": [
    {
     "name": "stdout",
     "output_type": "stream",
     "text": [
      "Requesting data for 2025-01\n",
      "Data saved to ./data/transparency/2025/01.xml\n"
     ]
    }
   ],
   "source": [
    "# Restful API Guide: https://documenter.getpostman.com/view/7009892/2s93JtP3F6\n",
    "\n",
    "# Check if the Transparency API key is missing or set to the demo key\n",
    "if TRANSPARENCY_API_KEY == \"DEMO_KEY\":\n",
    "    print(\"Error: Missing Transparency API key.\")  # If the key is missing, print an error message\n",
    "else:\n",
    "    api_url = \"https://web-api.tp.entsoe.eu/api\"  # Set the base URL for the API to make requests\n",
    "    \n",
    "    # Parse the start and end dates from the configuration into datetime objects\n",
    "    start = datetime.datetime.strptime(TRANSPARENCY_PERIOD_START, \"%Y-%m-%d\")  # Convert the start date to a datetime object\n",
    "    end = datetime.datetime.strptime(TRANSPARENCY_PERIOD_END, \"%Y-%m-%d\")  # Convert the end date to a datetime object\n",
    "    \n",
    "    # Start the loop to go through each month between the start and end dates\n",
    "    current = start  # Initialize the current date as the start date\n",
    "    while current <= end:  # Continue looping until the current date exceeds the end date\n",
    "        print(\"Requesting data for \" + current.strftime(\"%Y-%m\"))  # Print which month's data is being requested\n",
    "        \n",
    "        # Calculate the first day of the next month to set the period end date for the current month\n",
    "        next_month = (current.replace(day=1) + datetime.timedelta(days=32)).replace(day=1)  # Move to the next month\n",
    "        period_end = min(next_month, end + datetime.timedelta(days=1))  # Ensure the period end doesn't exceed the overall end date\n",
    "        \n",
    "        # Define the parameters for the API request\n",
    "        api_params = {\n",
    "            \"documentType\": \"A65\",  # Specify the document type for system total load data\n",
    "            \"processType\": \"A16\",  # Specify the process type for actual realized load data\n",
    "            \"outBiddingZone_Domain\": TRANSPARENCY_BIDDING_ZONE,  # Set the bidding zone (e.g., Austria)\n",
    "            \"periodStart\": current.strftime(\"%Y%m%d0000\"),  # Format the start date as YYYYMMDD0000\n",
    "            \"periodEnd\": period_end.strftime(\"%Y%m%d0000\"),  # Format the end date as YYYYMMDD0000\n",
    "            \"securityToken\": TRANSPARENCY_API_KEY  # Include the API key for authentication\n",
    "        }\n",
    "        \n",
    "        # Send the GET request to the API with the defined parameters\n",
    "        try:\n",
    "            response = requests.get(api_url, params=api_params)  # Make the API request and get the response\n",
    "            response.raise_for_status()  # Raise an exception for HTTP error responses\n",
    "        except requests.exceptions.RequestException as e:\n",
    "            print(f\"Error making API request: {e}\")  # Print error message if the request fails\n",
    "            continue  # Skip to the next iteration if the request fails\n",
    "\n",
    "        # Check if the request was successful (status code 200)\n",
    "        if response.status_code == 200:  \n",
    "            try:\n",
    "                # Prepare to save the data to a file by creating necessary directories\n",
    "                year_folder = current.strftime(\"%Y\")  # Extract the year from the current date to create a folder for the year\n",
    "                month_file = current.strftime(\"%m\")  # Extract the month from the current date to name the file\n",
    "                os.makedirs(os.path.dirname(f\"./data/transparency/{year_folder}/\"), exist_ok=True)  # Create the directory if it doesn't exist\n",
    "\n",
    "                # Open the file in write mode and save the XML data returned by the API\n",
    "                with open(f\"./data/transparency/{year_folder}/{month_file}.xml\", \"w\", encoding='utf-8') as file:\n",
    "                    file.write(response.text)  # Write the XML response content to the file\n",
    "                \n",
    "                print(f\"Data saved to ./data/transparency/{year_folder}/{month_file}.xml\")  # Print a confirmation message with the file path\n",
    "            except IOError as e:\n",
    "                print(f\"Error saving data to file: {e}\")  # Print error message if there is an issue writing to the file\n",
    "                \n",
    "        else:\n",
    "            print(\"Error: \" + str(response.status_code))  # If the request failed, print the error status code\n",
    "            print(\"Response: \" + response.text)  # Print the detailed error message from the API response\n",
    "        \n",
    "        # Move to the next month by updating the current date\n",
    "        current = next_month  # Update the current date to the next month's start date"
   ]
  },
  {
   "cell_type": "markdown",
   "metadata": {},
   "source": [
    "### Fetching and Saving Weather Data form GeoSphere"
   ]
  },
  {
   "cell_type": "markdown",
   "metadata": {},
   "source": [
    "The code checks if a valid API key is provided, then loops through each month in the specified date range to request historical weather data from the GeoSphere API. It sends monthly requests for parameters like rainfall, temperature, and wind speed, saves the results as CSV files, and handles potential errors in the request or file saving process. To avoid exceeding the API's rate limit, the code waits briefly between requests."
   ]
  },
  {
   "cell_type": "code",
   "execution_count": 6,
   "metadata": {},
   "outputs": [
    {
     "name": "stdout",
     "output_type": "stream",
     "text": [
      "Requesting data for 2025-01\n",
      "Remaining requests for this hour: 239\n",
      "Data saved to ./data/geosphere/2025/01.csv\n"
     ]
    }
   ],
   "source": [
    "# Define the GeoSphere API base URL for historical weather data\n",
    "api_url = \"https://dataset.api.hub.geosphere.at/v1/station/historical/\"\n",
    "# Specify the dataset we want to use for historical weather data (klima-v2-1 represents hourly climate data)\n",
    "api_dataset = \"klima-v2-1h\"\n",
    "\n",
    "# Convert the start and end date strings into datetime objects for easier date manipulation\n",
    "start = datetime.datetime.strptime(GEOSPHERE_PERIOD_START, \"%Y-%m-%d\")  # Start date in YYYY-MM-DD format\n",
    "end = datetime.datetime.strptime(GEOSPHERE_PERIOD_END, \"%Y-%m-%d\")  # End date in YYYY-MM-DD format\n",
    "\n",
    "# Set the current date to the start date for the loop\n",
    "current = start\n",
    "while current <= end:  # Loop through each month between the start and end dates\n",
    "    # Calculate the first day of the next month using the current date, by adding 32 days and then setting the day to 1\n",
    "    next_month = (current.replace(day=1) + datetime.timedelta(days=32)).replace(day=1)\n",
    "    # Ensure the period end does not exceed the overall end date\n",
    "    period_end = min(next_month, end + datetime.timedelta(days=1))  # Period end is the lesser of next month and the end date\n",
    "    \n",
    "    # Print out which month we are requesting data for (for debugging and progress tracking)\n",
    "    print(\"Requesting data for \" + current.strftime(\"%Y-%m\"))\n",
    "    \n",
    "    # Set up the parameters for the API request\n",
    "    api_params = {\n",
    "        # Data to get\n",
    "        \"parameters\": \"rr,tl,p,so_h,ff\", # Request specific weather parameters: rainfall (rr), temperature (tl), pressure (p), sunshine duration (so_h), and wind speed (vv_mittel)\n",
    "        \"start\": current.strftime(\"%Y-%m-%d\"),  # Format the start date as YYYY-MM-DD\n",
    "        \"end\": period_end.strftime(\"%Y-%m-%d\"),  # Format the end date as YYYY-MM-DD\n",
    "        \"station_ids\": GEOSPHERE_STATIONS,  # Specify the station IDs for which we want data (can be one or multiple stations)\n",
    "        \"output_format\": \"csv\",  # Set the output format to CSV for easy analysis and handling\n",
    "    }\n",
    "    \n",
    "    try:\n",
    "        # Send the GET request to the GeoSphere API with the defined parameters\n",
    "        response = requests.get(api_url + api_dataset, params=api_params)\n",
    "        # Check if the request was successful by raising an exception for any HTTP errors\n",
    "        response.raise_for_status()\n",
    "    except requests.exceptions.RequestException as e:\n",
    "        # If an exception occurs during the API request, catch it and print an error message\n",
    "        print(f\"Error making API request: {e}\")\n",
    "        continue  # Skip the current iteration and move on to the next month\n",
    "    \n",
    "    if response.status_code == 200:  # If the response status code is 200 (success)\n",
    "        # Print the number of remaining requests for the current hour (to track API rate limits)\n",
    "        print(\"Remaining requests for this hour: \" + response.headers[\"x-ratelimit-remaining-hour\"])\n",
    "        \n",
    "        try:\n",
    "            # Create the appropriate folder for storing the data, using the current year and month\n",
    "            year_folder = current.strftime(\"%Y\")  # Extract the year from the current date\n",
    "            month_file = current.strftime(\"%m\")  # Extract the month from the current date\n",
    "            # Ensure the directory for saving the file exists. If it doesn't, create it\n",
    "            os.makedirs(os.path.dirname(f\"./data/geosphere/{year_folder}/\"), exist_ok=True)\n",
    "            \n",
    "            # Open the file in write mode and save the response content (CSV data)\n",
    "            with open(f\"./data/geosphere/{year_folder}/{month_file}.csv\", \"w\", encoding='utf-8') as file:\n",
    "                file.write(response.text)  # Write the CSV data to the file\n",
    "            \n",
    "            # Print a confirmation message that the data has been saved successfully\n",
    "            print(f\"Data saved to ./data/geosphere/{year_folder}/{month_file}.csv\")\n",
    "        except IOError as e:\n",
    "            # If there is an error while saving the file, catch it and print an error message\n",
    "            print(f\"Error saving data to file: {e}\")\n",
    "        \n",
    "    else:\n",
    "        # If the response status code is not 200 (failure), print the error code and the response text for debugging\n",
    "        print(\"Error: \" + str(response.status_code))\n",
    "        print(\"Response: \" + response.text)\n",
    "    \n",
    "    # To avoid hitting the API rate limit (GeoSphere allows 5 requests per second), sleep for 0.2 seconds between requests\n",
    "    time.sleep(0.2)\n",
    "    \n",
    "    # Move to the next month and continue the loop until we reach the end date\n",
    "    current = next_month"
   ]
  },
  {
   "cell_type": "code",
   "execution_count": null,
   "metadata": {},
   "outputs": [],
   "source": []
  }
 ],
 "metadata": {
  "kernelspec": {
   "display_name": "Python 3",
   "language": "python",
   "name": "python3"
  },
  "language_info": {
   "codemirror_mode": {
    "name": "ipython",
    "version": 3
   },
   "file_extension": ".py",
   "mimetype": "text/x-python",
   "name": "python",
   "nbconvert_exporter": "python",
   "pygments_lexer": "ipython3",
   "version": "3.8.6"
  }
 },
 "nbformat": 4,
 "nbformat_minor": 4
}
