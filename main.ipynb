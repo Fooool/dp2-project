{
 "cells": [
  {
   "cell_type": "markdown",
   "metadata": {},
   "source": [
    "# Harnessing Weather Insights for Accurate Energy Load Forecasting"
   ]
  },
  {
   "cell_type": "markdown",
   "metadata": {},
   "source": [
    "## Download Training Data"
   ]
  },
  {
   "cell_type": "code",
   "execution_count": 12,
   "metadata": {},
   "outputs": [
    {
     "name": "stdout",
     "output_type": "stream",
     "text": [
      "Requirement already satisfied: asttokens==3.0.0 in p:\\development\\vs\\dp2-project\\.venv\\lib\\site-packages (from -r requirements.txt (line 1)) (3.0.0)\n",
      "Requirement already satisfied: certifi==2024.12.14 in p:\\development\\vs\\dp2-project\\.venv\\lib\\site-packages (from -r requirements.txt (line 2)) (2024.12.14)\n",
      "Requirement already satisfied: charset-normalizer==3.4.1 in p:\\development\\vs\\dp2-project\\.venv\\lib\\site-packages (from -r requirements.txt (line 3)) (3.4.1)\n",
      "Requirement already satisfied: colorama==0.4.6 in p:\\development\\vs\\dp2-project\\.venv\\lib\\site-packages (from -r requirements.txt (line 4)) (0.4.6)\n",
      "Requirement already satisfied: comm==0.2.2 in p:\\development\\vs\\dp2-project\\.venv\\lib\\site-packages (from -r requirements.txt (line 5)) (0.2.2)\n",
      "Requirement already satisfied: debugpy==1.8.12 in p:\\development\\vs\\dp2-project\\.venv\\lib\\site-packages (from -r requirements.txt (line 6)) (1.8.12)\n",
      "Requirement already satisfied: decorator==5.1.1 in p:\\development\\vs\\dp2-project\\.venv\\lib\\site-packages (from -r requirements.txt (line 7)) (5.1.1)\n",
      "Requirement already satisfied: executing==2.2.0 in p:\\development\\vs\\dp2-project\\.venv\\lib\\site-packages (from -r requirements.txt (line 8)) (2.2.0)\n",
      "Requirement already satisfied: idna==3.10 in p:\\development\\vs\\dp2-project\\.venv\\lib\\site-packages (from -r requirements.txt (line 9)) (3.10)\n",
      "Requirement already satisfied: ipykernel==6.29.5 in p:\\development\\vs\\dp2-project\\.venv\\lib\\site-packages (from -r requirements.txt (line 10)) (6.29.5)\n",
      "Requirement already satisfied: ipython==8.31.0 in p:\\development\\vs\\dp2-project\\.venv\\lib\\site-packages (from -r requirements.txt (line 11)) (8.31.0)\n",
      "Requirement already satisfied: jedi==0.19.2 in p:\\development\\vs\\dp2-project\\.venv\\lib\\site-packages (from -r requirements.txt (line 12)) (0.19.2)\n",
      "Requirement already satisfied: jupyter_client==8.6.3 in p:\\development\\vs\\dp2-project\\.venv\\lib\\site-packages (from -r requirements.txt (line 13)) (8.6.3)\n",
      "Requirement already satisfied: jupyter_core==5.7.2 in p:\\development\\vs\\dp2-project\\.venv\\lib\\site-packages (from -r requirements.txt (line 14)) (5.7.2)\n",
      "Requirement already satisfied: matplotlib-inline==0.1.7 in p:\\development\\vs\\dp2-project\\.venv\\lib\\site-packages (from -r requirements.txt (line 15)) (0.1.7)\n",
      "Requirement already satisfied: nest-asyncio==1.6.0 in p:\\development\\vs\\dp2-project\\.venv\\lib\\site-packages (from -r requirements.txt (line 16)) (1.6.0)\n",
      "Requirement already satisfied: packaging==24.2 in p:\\development\\vs\\dp2-project\\.venv\\lib\\site-packages (from -r requirements.txt (line 17)) (24.2)\n",
      "Requirement already satisfied: parso==0.8.4 in p:\\development\\vs\\dp2-project\\.venv\\lib\\site-packages (from -r requirements.txt (line 18)) (0.8.4)\n",
      "Requirement already satisfied: platformdirs==4.3.6 in p:\\development\\vs\\dp2-project\\.venv\\lib\\site-packages (from -r requirements.txt (line 19)) (4.3.6)\n",
      "Requirement already satisfied: prompt_toolkit==3.0.50 in p:\\development\\vs\\dp2-project\\.venv\\lib\\site-packages (from -r requirements.txt (line 20)) (3.0.50)\n",
      "Requirement already satisfied: psutil==6.1.1 in p:\\development\\vs\\dp2-project\\.venv\\lib\\site-packages (from -r requirements.txt (line 21)) (6.1.1)\n",
      "Requirement already satisfied: pure_eval==0.2.3 in p:\\development\\vs\\dp2-project\\.venv\\lib\\site-packages (from -r requirements.txt (line 22)) (0.2.3)\n",
      "Requirement already satisfied: Pygments==2.19.1 in p:\\development\\vs\\dp2-project\\.venv\\lib\\site-packages (from -r requirements.txt (line 23)) (2.19.1)\n",
      "Requirement already satisfied: python-dateutil==2.9.0.post0 in p:\\development\\vs\\dp2-project\\.venv\\lib\\site-packages (from -r requirements.txt (line 24)) (2.9.0.post0)\n",
      "Requirement already satisfied: pywin32==308 in p:\\development\\vs\\dp2-project\\.venv\\lib\\site-packages (from -r requirements.txt (line 25)) (308)\n",
      "Requirement already satisfied: pyzmq==26.2.0 in p:\\development\\vs\\dp2-project\\.venv\\lib\\site-packages (from -r requirements.txt (line 26)) (26.2.0)\n",
      "Requirement already satisfied: requests==2.32.3 in p:\\development\\vs\\dp2-project\\.venv\\lib\\site-packages (from -r requirements.txt (line 27)) (2.32.3)\n",
      "Requirement already satisfied: six==1.17.0 in p:\\development\\vs\\dp2-project\\.venv\\lib\\site-packages (from -r requirements.txt (line 28)) (1.17.0)\n",
      "Requirement already satisfied: stack-data==0.6.3 in p:\\development\\vs\\dp2-project\\.venv\\lib\\site-packages (from -r requirements.txt (line 29)) (0.6.3)\n",
      "Requirement already satisfied: tornado==6.4.2 in p:\\development\\vs\\dp2-project\\.venv\\lib\\site-packages (from -r requirements.txt (line 30)) (6.4.2)\n",
      "Requirement already satisfied: traitlets==5.14.3 in p:\\development\\vs\\dp2-project\\.venv\\lib\\site-packages (from -r requirements.txt (line 31)) (5.14.3)\n",
      "Requirement already satisfied: urllib3==2.3.0 in p:\\development\\vs\\dp2-project\\.venv\\lib\\site-packages (from -r requirements.txt (line 32)) (2.3.0)\n",
      "Requirement already satisfied: wcwidth==0.2.13 in p:\\development\\vs\\dp2-project\\.venv\\lib\\site-packages (from -r requirements.txt (line 33)) (0.2.13)\n",
      "Note: you may need to restart the kernel to use updated packages.\n"
     ]
    }
   ],
   "source": [
    "%pip install -r requirements.txt"
   ]
  },
  {
   "cell_type": "code",
   "execution_count": 27,
   "metadata": {},
   "outputs": [],
   "source": [
    "# API Settings\n",
    "\n",
    "# Transparency Portal\n",
    "TRANSPARENCY_API_KEY = \"DEMO_KEY\"\n",
    "TRANSPARENCY_PERIOD_START = \"2024-01-01\"\n",
    "TRANSPARENCY_PERIOD_END = \"2024-12-31\"\n",
    "TRANSPARENCY_BIDDING_ZONE = \"10YCZ-CEPS-----N\"\n",
    "\n",
    "# GeoSphere\n",
    "GEOSPHERE_PERIOD_START = \"2024-01-01\"\n",
    "GEOSPHERE_PERIOD_END = \"2024-12-31\"\n",
    "GEOSPHERE_STATIONS = \"1, 105\""
   ]
  },
  {
   "cell_type": "code",
   "execution_count": 15,
   "metadata": {},
   "outputs": [
    {
     "name": "stdout",
     "output_type": "stream",
     "text": [
      "Error: 401\n",
      "Response: <html><head><title>Error</title></head><body>Unauthorized. Missing or invalid security token</body></html>\n"
     ]
    }
   ],
   "source": [
    "# Transparency Portal\n",
    "import requests\n",
    "\n",
    "if TRANSPARENCY_API_KEY == \"DEMO_KEY\":\n",
    "    print(\"Error: Missing Transparency API key.\")\n",
    "else:\n",
    "    api_url = \"https://web-api.tp.entsoe.eu/api\"\n",
    "    api_params = {\n",
    "        \"documentType\": \"A73\",\n",
    "        \"processType\": \"A16\",\n",
    "        \"in_Domain\": TRANSPARENCY_BIDDING_ZONE,\n",
    "        \"periodStart\": TRANSPARENCY_PERIOD_START + \"0000\",\n",
    "        \"periodEnd\": TRANSPARENCY_PERIOD_END + \"0000\",\n",
    "        \"securityToken\": TRANSPARENCY_API_KEY\n",
    "    }\n",
    "\n",
    "    response = requests.get(api_url, params=api_params) # Send the request => Get XML response\n",
    "\n",
    "    if response.status_code == 200:\n",
    "        print(response.text)\n",
    "    else:\n",
    "        print(\"Error: \" + str(response.status_code))\n",
    "        print(\"Response: \" + response.text)"
   ]
  },
  {
   "cell_type": "code",
   "execution_count": 31,
   "metadata": {},
   "outputs": [
    {
     "name": "stdout",
     "output_type": "stream",
     "text": [
      "Data saved to file\n"
     ]
    }
   ],
   "source": [
    "# GeoSphere\n",
    "api_url = \"https://dataset.api.hub.geosphere.at/v1/station/historical/\"\n",
    "api_dataset = \"klima-v2-1d\"\n",
    "api_params = {\n",
    "    # Data to get\n",
    "    \"parameters\": \"rr,tl_mittel,bewm_mittel,so_h,vv_mittel\", # Rainfall, Temperature, Cloudiness, Sunshine, Wind speed\n",
    "    \n",
    "    \"start\": GEOSPHERE_PERIOD_START,\n",
    "    \"end\": GEOSPHERE_PERIOD_END,\n",
    "    \"station_ids\": GEOSPHERE_STATIONS,\n",
    "    \"output_format\": \"csv\",\n",
    "}\n",
    "# Download the data to a file\n",
    "response = requests.get(api_url + api_dataset, params=api_params) # Send the request => Get GeoJSON response\n",
    "\n",
    "if response.status_code == 200:\n",
    "    with open(\"./data/geosphere.csv\", \"wb\") as file:\n",
    "        file.write(response.content)\n",
    "    print(\"Data saved to file\")\n",
    "else:\n",
    "    print(\"Error: \" + str(response.status_code))\n",
    "    print(\"Response: \" + response.text)"
   ]
  },
  {
   "cell_type": "code",
   "execution_count": null,
   "metadata": {},
   "outputs": [],
   "source": []
  }
 ],
 "metadata": {
  "kernelspec": {
   "display_name": ".venv",
   "language": "python",
   "name": "python3"
  },
  "language_info": {
   "codemirror_mode": {
    "name": "ipython",
    "version": 3
   },
   "file_extension": ".py",
   "mimetype": "text/x-python",
   "name": "python",
   "nbconvert_exporter": "python",
   "pygments_lexer": "ipython3",
   "version": "3.13.1"
  }
 },
 "nbformat": 4,
 "nbformat_minor": 2
}
