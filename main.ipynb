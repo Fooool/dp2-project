{
 "cells": [
  {
   "cell_type": "markdown",
   "metadata": {},
   "source": [
    "# Harnessing Weather Insights for Accurate Energy Load Forecasting"
   ]
  },
  {
   "cell_type": "markdown",
   "metadata": {},
   "source": [
    "## Download Training Data"
   ]
  },
  {
   "cell_type": "code",
   "execution_count": 1,
   "metadata": {},
   "outputs": [
    {
     "name": "stdout",
     "output_type": "stream",
     "text": [
      "Requirement already satisfied: certifi==2024.12.14 in p:\\development\\vs\\dp2-project\\.venv\\lib\\site-packages (from -r requirements.txt (line 7)) (2024.12.14)\n",
      "Requirement already satisfied: charset-normalizer==3.4.1 in p:\\development\\vs\\dp2-project\\.venv\\lib\\site-packages (from -r requirements.txt (line 9)) (3.4.1)\n",
      "Requirement already satisfied: idna==3.10 in p:\\development\\vs\\dp2-project\\.venv\\lib\\site-packages (from -r requirements.txt (line 11)) (3.10)\n",
      "Requirement already satisfied: requests==2.32.3 in p:\\development\\vs\\dp2-project\\.venv\\lib\\site-packages (from -r requirements.txt (line 13)) (2.32.3)\n",
      "Requirement already satisfied: urllib3==2.3.0 in p:\\development\\vs\\dp2-project\\.venv\\lib\\site-packages (from -r requirements.txt (line 15)) (2.3.0)\n",
      "Note: you may need to restart the kernel to use updated packages.\n"
     ]
    }
   ],
   "source": [
    "%pip install -r requirements.txt"
   ]
  },
  {
   "cell_type": "code",
   "execution_count": 44,
   "metadata": {},
   "outputs": [],
   "source": [
    "# API Settings\n",
    "\n",
    "# Transparency Portal\n",
    "TRANSPARENCY_API_KEY = \"9d0ebad5-08cf-4d6f-a752-744ba3707b70\"\n",
    "TRANSPARENCY_PERIOD_START = \"2024-01-01\"\n",
    "TRANSPARENCY_PERIOD_END = \"2024-12-31\"\n",
    "TRANSPARENCY_BIDDING_ZONE = \"10YAT-APG------L\" # Load Austria\n",
    "\n",
    "# GeoSphere\n",
    "GEOSPHERE_PERIOD_START = \"2024-01-01\"\n",
    "GEOSPHERE_PERIOD_END = \"2024-12-31\"\n",
    "GEOSPHERE_STATIONS = \"1, 105\""
   ]
  },
  {
   "cell_type": "code",
   "execution_count": 46,
   "metadata": {},
   "outputs": [
    {
     "name": "stdout",
     "output_type": "stream",
     "text": [
      "Requesting data for 2024-01\n",
      "Data saved to ./data/transparency/2024/01.xml\n",
      "Requesting data for 2024-02\n",
      "Data saved to ./data/transparency/2024/02.xml\n",
      "Requesting data for 2024-03\n",
      "Data saved to ./data/transparency/2024/03.xml\n",
      "Requesting data for 2024-04\n",
      "Data saved to ./data/transparency/2024/04.xml\n",
      "Requesting data for 2024-05\n",
      "Data saved to ./data/transparency/2024/05.xml\n",
      "Requesting data for 2024-06\n",
      "Data saved to ./data/transparency/2024/06.xml\n",
      "Requesting data for 2024-07\n",
      "Data saved to ./data/transparency/2024/07.xml\n",
      "Requesting data for 2024-08\n",
      "Data saved to ./data/transparency/2024/08.xml\n",
      "Requesting data for 2024-09\n",
      "Data saved to ./data/transparency/2024/09.xml\n",
      "Requesting data for 2024-10\n",
      "Data saved to ./data/transparency/2024/10.xml\n",
      "Requesting data for 2024-11\n",
      "Data saved to ./data/transparency/2024/11.xml\n",
      "Requesting data for 2024-12\n",
      "Data saved to ./data/transparency/2024/12.xml\n"
     ]
    }
   ],
   "source": [
    "# Transparency Portal\n",
    "import requests\n",
    "import datetime\n",
    "import os\n",
    "\n",
    "if TRANSPARENCY_API_KEY == \"DEMO_KEY\":\n",
    "    print(\"Error: Missing Transparency API key.\")\n",
    "else:\n",
    "    api_url = \"https://web-api.tp.entsoe.eu/api\"\n",
    "    \n",
    "    start = datetime.datetime.strptime(TRANSPARENCY_PERIOD_START, \"%Y-%m-%d\")\n",
    "    end = datetime.datetime.strptime(TRANSPARENCY_PERIOD_END, \"%Y-%m-%d\")\n",
    "    \n",
    "    # Go through each month of the span\n",
    "    current = start\n",
    "    while current <= end:\n",
    "        print(\"Requesting data for \" + current.strftime(\"%Y-%m\"))\n",
    "        \n",
    "        next_month = (current.replace(day=1) + datetime.timedelta(days=32)).replace(day=1)\n",
    "        period_end = min(next_month, end + datetime.timedelta(days=1))\n",
    "        \n",
    "        api_params = {\n",
    "            \"documentType\": \"A65\", # System Total Load\n",
    "            \"processType\": \"A16\", # Actual Realized Load\n",
    "            \"outBiddingZone_Domain\": TRANSPARENCY_BIDDING_ZONE,\n",
    "            \"periodStart\": current.strftime(\"%Y%m%d0000\"), # Format: YYYYMMDDHHMM\n",
    "            \"periodEnd\": period_end.strftime(\"%Y%m%d0000\"), # Format: YYYYMMDDHHMM\n",
    "            \"securityToken\": TRANSPARENCY_API_KEY\n",
    "        }\n",
    "        \n",
    "        response = requests.get(api_url, params=api_params) # Send the request => Get XML response\n",
    "\n",
    "        if response.status_code == 200:\n",
    "            # Save to file and create directory if it doesn't exist\n",
    "            year_folder = current.strftime(\"%Y\")\n",
    "            month_file = current.strftime(\"%m\")\n",
    "            os.makedirs(os.path.dirname(f\"./data/transparency/{year_folder}/\"), exist_ok=True)\n",
    "            \n",
    "            with open(f\"./data/transparency/{year_folder}/{month_file}.xml\", \"w\", encoding='utf-8') as file:\n",
    "                file.write(response.text)\n",
    "                \n",
    "            print(f\"Data saved to ./data/transparency/{year_folder}/{month_file}.xml\")\n",
    "                \n",
    "        else:\n",
    "            print(\"Error: \" + str(response.status_code))\n",
    "            print(\"Response: \" + response.text)\n",
    "        \n",
    "        current = next_month\n"
   ]
  },
  {
   "cell_type": "code",
   "execution_count": 31,
   "metadata": {},
   "outputs": [
    {
     "name": "stdout",
     "output_type": "stream",
     "text": [
      "Data saved to file\n"
     ]
    }
   ],
   "source": [
    "# GeoSphere Historical Data\n",
    "api_url = \"https://dataset.api.hub.geosphere.at/v1/station/historical/\"\n",
    "api_dataset = \"klima-v2-1d\"\n",
    "api_params = {\n",
    "    # Data to get\n",
    "    \"parameters\": \"rr,tl_mittel,bewm_mittel,so_h,vv_mittel\", # Rainfall, Temperature, Cloudiness, Sunshine, Wind speed\n",
    "    \n",
    "    \"start\": GEOSPHERE_PERIOD_START,\n",
    "    \"end\": GEOSPHERE_PERIOD_END,\n",
    "    \"station_ids\": GEOSPHERE_STATIONS,\n",
    "    \"output_format\": \"csv\",\n",
    "}\n",
    "# Download the data to a file\n",
    "response = requests.get(api_url + api_dataset, params=api_params) # Send the request => Get GeoJSON response\n",
    "\n",
    "if response.status_code == 200:\n",
    "    with open(\"./data/geosphere.csv\", \"wb\") as file:\n",
    "        file.write(response.content)\n",
    "    print(\"Data saved to file\")\n",
    "else:\n",
    "    print(\"Error: \" + str(response.status_code))\n",
    "    print(\"Response: \" + response.text)"
   ]
  },
  {
   "cell_type": "code",
   "execution_count": null,
   "metadata": {},
   "outputs": [],
   "source": []
  }
 ],
 "metadata": {
  "kernelspec": {
   "display_name": ".venv",
   "language": "python",
   "name": "python3"
  },
  "language_info": {
   "codemirror_mode": {
    "name": "ipython",
    "version": 3
   },
   "file_extension": ".py",
   "mimetype": "text/x-python",
   "name": "python",
   "nbconvert_exporter": "python",
   "pygments_lexer": "ipython3",
   "version": "3.13.1"
  }
 },
 "nbformat": 4,
 "nbformat_minor": 2
}
