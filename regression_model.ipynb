{
 "cells": [
  {
   "cell_type": "markdown",
   "metadata": {},
   "source": [
    "# Harnessing Weather Insights for Accurate Energy Load Forecasting"
   ]
  },
  {
   "cell_type": "code",
   "execution_count": 13,
   "metadata": {},
   "outputs": [
    {
     "name": "stdout",
     "output_type": "stream",
     "text": [
      "Requirement already satisfied: certifi==2024.12.14 in p:\\development\\vs\\dp2-project\\.venv\\lib\\site-packages (from -r requirements.txt (line 7)) (2024.12.14)\n",
      "Requirement already satisfied: charset-normalizer==3.4.1 in p:\\development\\vs\\dp2-project\\.venv\\lib\\site-packages (from -r requirements.txt (line 9)) (3.4.1)\n",
      "Requirement already satisfied: datetime==5.5 in p:\\development\\vs\\dp2-project\\.venv\\lib\\site-packages (from -r requirements.txt (line 11)) (5.5)\n",
      "Requirement already satisfied: findspark==2.0.1 in p:\\development\\vs\\dp2-project\\.venv\\lib\\site-packages (from -r requirements.txt (line 13)) (2.0.1)\n",
      "Requirement already satisfied: idna==3.10 in p:\\development\\vs\\dp2-project\\.venv\\lib\\site-packages (from -r requirements.txt (line 15)) (3.10)\n",
      "Collecting py4j==0.10.9.7 (from -r requirements.txt (line 17))\n",
      "  Downloading py4j-0.10.9.7-py2.py3-none-any.whl.metadata (1.5 kB)\n",
      "Collecting pyspark==3.5.4 (from -r requirements.txt (line 19))\n",
      "  Downloading pyspark-3.5.4.tar.gz (317.3 MB)\n",
      "     ---------------------------------------- 0.0/317.3 MB ? eta -:--:--\n",
      "     --------------------------------------- 2.4/317.3 MB 18.9 MB/s eta 0:00:17\n",
      "      -------------------------------------- 8.1/317.3 MB 24.2 MB/s eta 0:00:13\n",
      "     - ------------------------------------ 15.2/317.3 MB 27.4 MB/s eta 0:00:12\n",
      "     --- ---------------------------------- 25.4/317.3 MB 33.0 MB/s eta 0:00:09\n",
      "     --- ---------------------------------- 31.5/317.3 MB 36.0 MB/s eta 0:00:08\n",
      "     ---- --------------------------------- 38.5/317.3 MB 32.8 MB/s eta 0:00:09\n",
      "     ----- -------------------------------- 48.0/317.3 MB 34.8 MB/s eta 0:00:08\n",
      "     ------- ------------------------------ 60.0/317.3 MB 37.7 MB/s eta 0:00:07\n",
      "     -------- ----------------------------- 69.7/317.3 MB 38.6 MB/s eta 0:00:07\n",
      "     --------- ---------------------------- 82.8/317.3 MB 41.0 MB/s eta 0:00:06\n",
      "     ----------- -------------------------- 97.0/317.3 MB 43.4 MB/s eta 0:00:06\n",
      "     ------------- ----------------------- 111.7/317.3 MB 45.8 MB/s eta 0:00:05\n",
      "     -------------- ---------------------- 127.9/317.3 MB 48.0 MB/s eta 0:00:04\n",
      "     ---------------- -------------------- 144.7/317.3 MB 50.5 MB/s eta 0:00:04\n",
      "     ------------------- ----------------- 165.9/317.3 MB 53.9 MB/s eta 0:00:03\n",
      "     --------------------- --------------- 184.8/317.3 MB 56.1 MB/s eta 0:00:03\n",
      "     ------------------------ ------------ 206.3/317.3 MB 58.8 MB/s eta 0:00:02\n",
      "     -------------------------- ---------- 227.5/317.3 MB 61.1 MB/s eta 0:00:02\n",
      "     ----------------------------- ------- 249.3/317.3 MB 63.3 MB/s eta 0:00:02\n",
      "     ------------------------------- ----- 272.6/317.3 MB 70.1 MB/s eta 0:00:01\n",
      "     ---------------------------------- -- 293.1/317.3 MB 74.8 MB/s eta 0:00:01\n",
      "     ------------------------------------  314.0/317.3 MB 83.8 MB/s eta 0:00:01\n",
      "     ------------------------------------  317.2/317.3 MB 84.7 MB/s eta 0:00:01\n",
      "     ------------------------------------  317.2/317.3 MB 84.7 MB/s eta 0:00:01\n",
      "     ------------------------------------- 317.3/317.3 MB 72.6 MB/s eta 0:00:00\n",
      "  Preparing metadata (setup.py): started\n",
      "  Preparing metadata (setup.py): finished with status 'done'\n",
      "Requirement already satisfied: pytz==2024.2 in p:\\development\\vs\\dp2-project\\.venv\\lib\\site-packages (from -r requirements.txt (line 21)) (2024.2)\n",
      "Requirement already satisfied: requests==2.32.3 in p:\\development\\vs\\dp2-project\\.venv\\lib\\site-packages (from -r requirements.txt (line 23)) (2.32.3)\n",
      "Requirement already satisfied: urllib3==2.3.0 in p:\\development\\vs\\dp2-project\\.venv\\lib\\site-packages (from -r requirements.txt (line 25)) (2.3.0)\n",
      "Requirement already satisfied: zope-interface==7.2 in p:\\development\\vs\\dp2-project\\.venv\\lib\\site-packages (from -r requirements.txt (line 27)) (7.2)\n",
      "Requirement already satisfied: setuptools in p:\\development\\vs\\dp2-project\\.venv\\lib\\site-packages (from zope-interface==7.2->-r requirements.txt (line 27)) (75.8.0)\n",
      "Downloading py4j-0.10.9.7-py2.py3-none-any.whl (200 kB)\n",
      "Building wheels for collected packages: pyspark\n",
      "  Building wheel for pyspark (setup.py): started\n",
      "  Building wheel for pyspark (setup.py): finished with status 'done'\n",
      "  Created wheel for pyspark: filename=pyspark-3.5.4-py2.py3-none-any.whl size=317849873 sha256=9fd97d706917693b4698d8bda11d4884940eeafe7a769eb88c0905ccd4735b7f\n",
      "  Stored in directory: c:\\users\\fooool\\appdata\\local\\pip\\cache\\wheels\\a6\\2c\\dc\\afa6211ddd28bb915769dd723ae949b58f0d7935ba4846beb3\n",
      "Successfully built pyspark\n",
      "Installing collected packages: py4j, pyspark\n",
      "Successfully installed py4j-0.10.9.7 pyspark-3.5.4\n",
      "Note: you may need to restart the kernel to use updated packages.\n"
     ]
    }
   ],
   "source": [
    "%pip install -r requirements.txt"
   ]
  },
  {
   "cell_type": "code",
   "execution_count": 14,
   "metadata": {},
   "outputs": [
    {
     "name": "stdout",
     "output_type": "stream",
     "text": [
      "Windows OS detected\n"
     ]
    }
   ],
   "source": [
    "import platform\n",
    "\n",
    "# Import the findspark module and use it to initialize the PySpark environment \n",
    "import findspark\n",
    "\n",
    "# Initialize via the full spark path\n",
    "if platform.system() == 'Windows':\n",
    "    print(\"Windows OS detected\")\n",
    "    findspark.init(\"C:/Spark/spark-3.5.4-bin-hadoop3\") # For my local machine\n",
    "else:\n",
    "    findspark.init(\"/usr/local/spark/\")\n"
   ]
  },
  {
   "cell_type": "code",
   "execution_count": 15,
   "metadata": {},
   "outputs": [],
   "source": [
    "# Import the SparkSession module\n",
    "from pyspark.sql import SparkSession\n",
    "\n",
    "# Build the SparkSession\n",
    "spark = SparkSession.builder \\\n",
    "   .master(\"local\") \\\n",
    "   .appName(\"Linear Regression Model\") \\\n",
    "   .config(\"spark.executor.memory\", \"1gb\") \\\n",
    "   .getOrCreate()\n",
    "   \n",
    "# Main entry point for Spark functionality. A SparkContext represents the\n",
    "# connection to a Spark cluster, and can be used to create :class:`RDD` and\n",
    "# broadcast variables on that cluster.      \n",
    "sc = spark.sparkContext"
   ]
  },
  {
   "cell_type": "code",
   "execution_count": 17,
   "metadata": {},
   "outputs": [
    {
     "name": "stdout",
     "output_type": "stream",
     "text": [
      "root\n",
      " |-- time: string (nullable = true)\n",
      " |-- station: integer (nullable = true)\n",
      " |-- rr: double (nullable = true)\n",
      " |-- tl_mittel: double (nullable = true)\n",
      " |-- bewm_mittel: double (nullable = true)\n",
      " |-- so_h: double (nullable = true)\n",
      " |-- vv_mittel: double (nullable = true)\n",
      " |-- substation: integer (nullable = true)\n",
      "\n"
     ]
    }
   ],
   "source": [
    "# Read in the data\n",
    "weather = spark.read.csv(\"./data/geosphere/2024-01-01_2024-12-31.csv\", header=True, inferSchema=True)\n",
    "\n",
    "# Print the schema of the DataFrame\n",
    "weather.printSchema()"
   ]
  },
  {
   "cell_type": "code",
   "execution_count": null,
   "metadata": {},
   "outputs": [],
   "source": []
  }
 ],
 "metadata": {
  "kernelspec": {
   "display_name": ".venv",
   "language": "python",
   "name": "python3"
  },
  "language_info": {
   "codemirror_mode": {
    "name": "ipython",
    "version": 3
   },
   "file_extension": ".py",
   "mimetype": "text/x-python",
   "name": "python",
   "nbconvert_exporter": "python",
   "pygments_lexer": "ipython3",
   "version": "3.13.1"
  }
 },
 "nbformat": 4,
 "nbformat_minor": 2
}
